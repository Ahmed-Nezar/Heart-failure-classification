{
 "cells": [
  {
   "cell_type": "code",
   "execution_count": 1,
   "metadata": {},
   "outputs": [],
   "source": [
    "import pandas as pd\n",
    "import numpy as np\n",
    "import matplotlib.pyplot as plt\n",
    "import seaborn as sns\n",
    "\n",
    "from sklearn.cluster import AgglomerativeClustering\n",
    "from sklearn.decomposition import PCA\n",
    "from scipy.cluster.hierarchy import dendrogram, linkage\n",
    "\n",
    "import os"
   ]
  },
  {
   "cell_type": "code",
   "execution_count": 2,
   "metadata": {},
   "outputs": [],
   "source": [
    "out_dir = 'Clustering'"
   ]
  },
  {
   "cell_type": "code",
   "execution_count": null,
   "metadata": {},
   "outputs": [],
   "source": [
    "scenario_datasets = os.listdir(\"./Scenarios\")\n",
    "scenario_datasets = [f\"./Scenarios/{x}\" for x in scenario_datasets]\n",
    "scenario_datasets"
   ]
  },
  {
   "cell_type": "code",
   "execution_count": 4,
   "metadata": {},
   "outputs": [],
   "source": [
    "scenarios_description = [\n",
    "    {\"name\": \"Scenario 1_N\", \"encoding\": \"Label encoding\", \"remove_outliers\": False, \"remove_errors\": False, \"scaling\": \"MinMax\"},\n",
    "    {\"name\": \"Scenario 1_S\", \"encoding\": \"Label encoding\", \"remove_outliers\": False, \"remove_errors\": False, \"scaling\": \"Standard\"},\n",
    "    {\"name\": \"Scenario 2_N\", \"encoding\": \"Label encoding\", \"remove_outliers\": False, \"remove_errors\": False,\n",
    "     \"impute_zeros\": {\"RestingBP\": \"mean\", \"Cholesterol\": \"mean\"}, \"oldpeak_abs\": True, \"scaling\": \"MinMax\"},\n",
    "    {\"name\": \"Scenario 2_S\", \"encoding\": \"Label encoding\", \"remove_outliers\": False, \"remove_errors\": False,\n",
    "     \"impute_zeros\": {\"RestingBP\": \"mean\", \"Cholesterol\": \"mean\"}, \"oldpeak_abs\": True, \"scaling\": \"Standard\"},\n",
    "    {\"name\": \"Scenario 3_N\", \"encoding\": \"Label encoding\", \"remove_outliers\": True, \"remove_errors\": True, \"scaling\": \"None\"},\n",
    "    {\"name\": \"Scenario 3_S\", \"encoding\": \"Label encoding\", \"remove_outliers\": True, \"remove_errors\": True, \"scaling\": \"Standard\"},\n",
    "    {\"name\": \"Scenario 4_N\", \"encoding\": \"Label encoding\", \"remove_outliers\": \"replace_with_mean\", \"remove_errors\": True, \"scaling\": \"MinMax\"},\n",
    "    {\"name\": \"Scenario 4_S\", \"encoding\": \"Label encoding\", \"remove_outliers\": \"replace_with_mean\", \"remove_errors\": True, \"scaling\": \"Standard\"},\n",
    "    {\"name\": \"Scenario 5_N\", \"encoding\": {\"Sex\": \"Label\", \"ExerciseAngina\": \"Label\", \"ST_Slope\": \"Label\", \"RestingECG\": \"Label\", \"ChestPainType\": \"OneHot\"},\n",
    "     \"remove_outliers\": False, \"remove_errors\": False, \"scaling\": \"MinMax\"},\n",
    "    {\"name\": \"Scenario 5_S\", \"encoding\": {\"Sex\": \"Label\", \"ExerciseAngina\": \"Label\", \"ST_Slope\": \"Label\", \"RestingECG\": \"Label\", \"ChestPainType\": \"OneHot\"},\n",
    "     \"remove_outliers\": False, \"remove_errors\": False, \"scaling\": \"Standard\"},\n",
    "    {\"name\": \"Scenario 6_N\", \"encoding\": {\"Sex\": \"Label\", \"ExerciseAngina\": \"Label\", \"ST_Slope\": \"Label\", \"RestingECG\": \"Label\", \"ChestPainType\": \"OneHot\"},\n",
    "     \"remove_outliers\": False, \"remove_errors\": True, \"scaling\": \"None\"},\n",
    "    {\"name\": \"Scenario 6_S\", \"encoding\": {\"Sex\": \"Label\", \"ExerciseAngina\": \"Label\", \"ST_Slope\": \"Label\", \"RestingECG\": \"Label\", \"ChestPainType\": \"OneHot\"},\n",
    "     \"remove_outliers\": False, \"remove_errors\": True, \"scaling\": \"Standard\"},\n",
    "    {\"name\": \"Scenario 7_N\", \"encoding\": {\"Sex\": \"Label\", \"ExerciseAngina\": \"Label\", \"ST_Slope\": \"Label\", \"RestingECG\": \"Label\", \"ChestPainType\": \"OneHot\"},\n",
    "     \"remove_outliers\": True, \"remove_errors\": True, \"scaling\": \"MinMax\"},\n",
    "    {\"name\": \"Scenario 7_S\", \"encoding\": {\"Sex\": \"Label\", \"ExerciseAngina\": \"Label\", \"ST_Slope\": \"Label\", \"RestingECG\": \"Label\", \"ChestPainType\": \"OneHot\"},\n",
    "     \"remove_outliers\": True, \"remove_errors\": True, \"scaling\": \"Standard\"},\n",
    "    {\"name\": \"Scenario 8_N\", \"encoding\": {\"Sex\": \"Label\", \"ExerciseAngina\": \"Label\", \"ST_Slope\": \"Label\", \"RestingECG\": \"Label\", \"ChestPainType\": \"OneHot\"},\n",
    "     \"remove_outliers\": \"replace_with_mean\", \"remove_errors\": True, \"scaling\": \"None\"},\n",
    "    {\"name\": \"Scenario 8_S\", \"encoding\": {\"Sex\": \"Label\", \"ExerciseAngina\": \"Label\", \"ST_Slope\": \"Label\", \"RestingECG\": \"Label\", \"ChestPainType\": \"OneHot\"},\n",
    "     \"remove_outliers\": \"replace_with_mean\", \"remove_errors\": True, \"scaling\": \"Standard\"},\n",
    "]\n"
   ]
  },
  {
   "cell_type": "code",
   "execution_count": 8,
   "metadata": {},
   "outputs": [],
   "source": [
    "class ClusterAnalysis:\n",
    "    def __init__(self, data, name):\n",
    "        self.data = data\n",
    "        self.methods = [\"complete\", \"average\", \"single\"]\n",
    "        self.types = [\"euclidean\", \"manhattan\", \"cosine\", \"correlation\"]\n",
    "\n",
    "        self.save_dir = f\"{out_dir}/{name}\"\n",
    "        os.makedirs(self.save_dir, exist_ok=True)\n",
    "\n",
    "        \n",
    "\n",
    "    def _reduce_dimensions(self, method=\"PCA\", n_components=2):\n",
    "        if method == \"PCA\":\n",
    "            pca = PCA(n_components=n_components)\n",
    "            self.data = pd.DataFrame(pca.fit_transform(self.data))\n",
    "            self.data.columns = [f\"PC{i}\" for i in range(1, n_components + 1)]\n",
    "        return self.data\n",
    "        \n",
    "\n",
    "    def plot_dendrogram(self, method=\"single\", type=\"euclidean\"):\n",
    "        Z = linkage(self.data, method=method)\n",
    "        plt.figure(figsize=(25, 10))\n",
    "        plt.title('Hierarchical Clustering Dendrogram - Method: {} - Type: {}'.format(method, type))\n",
    "        dendrogram(\n",
    "            Z,\n",
    "            leaf_rotation=45.,\n",
    "            leaf_font_size=3.,\n",
    "        )\n",
    "        # plt.show()\n",
    "        plt.savefig(f\"{self.save_dir}/Dendrogram_{method}_{type}.png\")\n",
    "\n",
    "    def plot_clusters(self, method=\"single\"):\n",
    "        model = AgglomerativeClustering(linkage=method)\n",
    "        model.fit(self.data)\n",
    "        labels = model.labels_\n",
    "        self.data[\"Cluster\"] = labels\n",
    "        sns.pairplot(self.data, hue=\"Cluster\")\n",
    "        # plt.show()\n",
    "        plt.savefig(f\"{self.save_dir}/Clusters_{method}.png\")\n",
    "\n",
    "    def run(self):\n",
    "        # self.data = self._reduce_dimensions()\n",
    "        for method in self.methods:\n",
    "            for type in self.types:\n",
    "                self.plot_dendrogram(method, type)\n",
    "                self.plot_clusters(method)"
   ]
  },
  {
   "cell_type": "code",
   "execution_count": null,
   "metadata": {},
   "outputs": [],
   "source": [
    "for scenario, scenario_description in zip(scenario_datasets, scenarios_description):\n",
    "    print(f\"Scenario Name: {scenario_description['name']}\")\n",
    "    print(f\"  Encoding: {scenario_description['encoding']}\")\n",
    "    print(f\"  Remove Outliers: {scenario_description['remove_outliers']}\")\n",
    "    print(f\"  Remove Errors: {scenario_description.get('remove_errors', 'Not Specified')}\")\n",
    "    print(f\"  Impute Zeros: {scenario_description.get('impute_zeros', 'None')}\")\n",
    "    print(f\"  Oldpeak Absolute: {scenario_description.get('oldpeak_abs', 'Not Specified')}\")\n",
    "    print(f\"  Scaling: {scenario_description['scaling']}\")\n",
    "\n",
    "    data = pd.read_csv(scenario)\n",
    "    clusterer = ClusterAnalysis(data, scenario_description['name'])\n",
    "    clusterer.run()"
   ]
  },
  {
   "cell_type": "code",
   "execution_count": null,
   "metadata": {},
   "outputs": [],
   "source": []
  }
 ],
 "metadata": {
  "kernelspec": {
   "display_name": "general",
   "language": "python",
   "name": "python3"
  },
  "language_info": {
   "codemirror_mode": {
    "name": "ipython",
    "version": 3
   },
   "file_extension": ".py",
   "mimetype": "text/x-python",
   "name": "python",
   "nbconvert_exporter": "python",
   "pygments_lexer": "ipython3",
   "version": "3.12.7"
  }
 },
 "nbformat": 4,
 "nbformat_minor": 2
}
