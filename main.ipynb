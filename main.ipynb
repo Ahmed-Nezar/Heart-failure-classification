{
 "cells": [
  {
   "cell_type": "markdown",
   "metadata": {},
   "source": [
    "# Team Members:\n",
    "| Name | ID | \n",
    "|----------|----------|\n",
    "| Ahmed Nezar  | 21P0025  |\n",
    "| Kirollos Ehab  | 21P0006  |\n",
    "| AbdulRahman Hesham  | 21P0153  |"
   ]
  }
 ],
 "metadata": {
  "language_info": {
   "name": "python"
  }
 },
 "nbformat": 4,
 "nbformat_minor": 2
}
